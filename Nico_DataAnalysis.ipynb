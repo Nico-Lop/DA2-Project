{
 "cells": [
  {
   "attachments": {},
   "cell_type": "markdown",
   "metadata": {},
   "source": [
    "## Nico Data Analysis"
   ]
  },
  {
   "cell_type": "code",
   "execution_count": 35,
   "metadata": {},
   "outputs": [
    {
     "data": {
      "text/html": [
       "<div>\n",
       "<style scoped>\n",
       "    .dataframe tbody tr th:only-of-type {\n",
       "        vertical-align: middle;\n",
       "    }\n",
       "\n",
       "    .dataframe tbody tr th {\n",
       "        vertical-align: top;\n",
       "    }\n",
       "\n",
       "    .dataframe thead th {\n",
       "        text-align: right;\n",
       "    }\n",
       "</style>\n",
       "<table border=\"1\" class=\"dataframe\">\n",
       "  <thead>\n",
       "    <tr style=\"text-align: right;\">\n",
       "      <th></th>\n",
       "      <th>id</th>\n",
       "      <th>title</th>\n",
       "      <th>description</th>\n",
       "      <th>is_premium</th>\n",
       "      <th>difficulty</th>\n",
       "      <th>solution_link</th>\n",
       "      <th>acceptance_rate</th>\n",
       "      <th>frequency</th>\n",
       "      <th>url</th>\n",
       "      <th>discuss_count</th>\n",
       "      <th>accepted</th>\n",
       "      <th>submissions</th>\n",
       "      <th>companies</th>\n",
       "      <th>related_topics</th>\n",
       "      <th>likes</th>\n",
       "      <th>dislikes</th>\n",
       "      <th>rating</th>\n",
       "      <th>asked_by_faang</th>\n",
       "      <th>similar_questions</th>\n",
       "    </tr>\n",
       "  </thead>\n",
       "  <tbody>\n",
       "    <tr>\n",
       "      <th>0</th>\n",
       "      <td>1</td>\n",
       "      <td>Two Sum</td>\n",
       "      <td>Given an array of integers `nums` and an integ...</td>\n",
       "      <td>0</td>\n",
       "      <td>Easy</td>\n",
       "      <td>/articles/two-sum</td>\n",
       "      <td>46.7</td>\n",
       "      <td>100.0</td>\n",
       "      <td>https://leetcode.com/problems/two-sum</td>\n",
       "      <td>999</td>\n",
       "      <td>4.1M</td>\n",
       "      <td>8.7M</td>\n",
       "      <td>Amazon,Google,Apple,Adobe,Microsoft,Bloomberg,...</td>\n",
       "      <td>Array,Hash Table</td>\n",
       "      <td>20217</td>\n",
       "      <td>712</td>\n",
       "      <td>97</td>\n",
       "      <td>1</td>\n",
       "      <td>[3Sum, /problems/3sum/, Medium], [4Sum, /probl...</td>\n",
       "    </tr>\n",
       "    <tr>\n",
       "      <th>1</th>\n",
       "      <td>2</td>\n",
       "      <td>Add Two Numbers</td>\n",
       "      <td>You are given two non-empty linked lists repre...</td>\n",
       "      <td>0</td>\n",
       "      <td>Medium</td>\n",
       "      <td>/articles/add-two-numbers</td>\n",
       "      <td>35.7</td>\n",
       "      <td>93.1</td>\n",
       "      <td>https://leetcode.com/problems/add-two-numbers</td>\n",
       "      <td>999</td>\n",
       "      <td>1.9M</td>\n",
       "      <td>5.2M</td>\n",
       "      <td>Bloomberg,Microsoft,Amazon,Google,Facebook,App...</td>\n",
       "      <td>Linked List,Math,Recursion</td>\n",
       "      <td>11350</td>\n",
       "      <td>2704</td>\n",
       "      <td>81</td>\n",
       "      <td>1</td>\n",
       "      <td>[Multiply Strings, /problems/multiply-strings/...</td>\n",
       "    </tr>\n",
       "    <tr>\n",
       "      <th>2</th>\n",
       "      <td>3</td>\n",
       "      <td>Longest Substring Without Repeating Characters</td>\n",
       "      <td>Given a string `s`, find the length of the lon...</td>\n",
       "      <td>0</td>\n",
       "      <td>Medium</td>\n",
       "      <td>/articles/longest-substring-without-repeating-...</td>\n",
       "      <td>31.5</td>\n",
       "      <td>90.9</td>\n",
       "      <td>https://leetcode.com/problems/longest-substrin...</td>\n",
       "      <td>999</td>\n",
       "      <td>2.1M</td>\n",
       "      <td>6.7M</td>\n",
       "      <td>Amazon,Bloomberg,Microsoft,Facebook,Apple,Adob...</td>\n",
       "      <td>Hash Table,Two Pointers,String,Sliding Window</td>\n",
       "      <td>13810</td>\n",
       "      <td>714</td>\n",
       "      <td>95</td>\n",
       "      <td>1</td>\n",
       "      <td>[Longest Substring with At Most Two Distinct C...</td>\n",
       "    </tr>\n",
       "    <tr>\n",
       "      <th>3</th>\n",
       "      <td>4</td>\n",
       "      <td>Median of Two Sorted Arrays</td>\n",
       "      <td>Given two sorted arrays `nums1` and `nums2` of...</td>\n",
       "      <td>0</td>\n",
       "      <td>Hard</td>\n",
       "      <td>/articles/median-of-two-sorted-arrays</td>\n",
       "      <td>31.4</td>\n",
       "      <td>86.2</td>\n",
       "      <td>https://leetcode.com/problems/median-of-two-so...</td>\n",
       "      <td>999</td>\n",
       "      <td>904.7K</td>\n",
       "      <td>2.9M</td>\n",
       "      <td>Amazon,Goldman Sachs,Facebook,Microsoft,Apple,...</td>\n",
       "      <td>Array,Binary Search,Divide and Conquer</td>\n",
       "      <td>9665</td>\n",
       "      <td>1486</td>\n",
       "      <td>87</td>\n",
       "      <td>1</td>\n",
       "      <td>NaN</td>\n",
       "    </tr>\n",
       "    <tr>\n",
       "      <th>4</th>\n",
       "      <td>5</td>\n",
       "      <td>Longest Palindromic Substring</td>\n",
       "      <td>Given a string `s`, return the longest palindr...</td>\n",
       "      <td>0</td>\n",
       "      <td>Medium</td>\n",
       "      <td>/articles/longest-palindromic-substring</td>\n",
       "      <td>30.6</td>\n",
       "      <td>84.7</td>\n",
       "      <td>https://leetcode.com/problems/longest-palindro...</td>\n",
       "      <td>999</td>\n",
       "      <td>1.3M</td>\n",
       "      <td>4.1M</td>\n",
       "      <td>Amazon,Microsoft,Wayfair,Facebook,Adobe,eBay,G...</td>\n",
       "      <td>String,Dynamic Programming</td>\n",
       "      <td>10271</td>\n",
       "      <td>670</td>\n",
       "      <td>94</td>\n",
       "      <td>1</td>\n",
       "      <td>[Shortest Palindrome, /problems/shortest-palin...</td>\n",
       "    </tr>\n",
       "  </tbody>\n",
       "</table>\n",
       "</div>"
      ],
      "text/plain": [
       "   id                                           title  \\\n",
       "0   1                                         Two Sum   \n",
       "1   2                                 Add Two Numbers   \n",
       "2   3  Longest Substring Without Repeating Characters   \n",
       "3   4                     Median of Two Sorted Arrays   \n",
       "4   5                   Longest Palindromic Substring   \n",
       "\n",
       "                                         description  is_premium difficulty  \\\n",
       "0  Given an array of integers `nums` and an integ...           0       Easy   \n",
       "1  You are given two non-empty linked lists repre...           0     Medium   \n",
       "2  Given a string `s`, find the length of the lon...           0     Medium   \n",
       "3  Given two sorted arrays `nums1` and `nums2` of...           0       Hard   \n",
       "4  Given a string `s`, return the longest palindr...           0     Medium   \n",
       "\n",
       "                                       solution_link  acceptance_rate  \\\n",
       "0                                  /articles/two-sum             46.7   \n",
       "1                          /articles/add-two-numbers             35.7   \n",
       "2  /articles/longest-substring-without-repeating-...             31.5   \n",
       "3              /articles/median-of-two-sorted-arrays             31.4   \n",
       "4            /articles/longest-palindromic-substring             30.6   \n",
       "\n",
       "   frequency                                                url  \\\n",
       "0      100.0              https://leetcode.com/problems/two-sum   \n",
       "1       93.1      https://leetcode.com/problems/add-two-numbers   \n",
       "2       90.9  https://leetcode.com/problems/longest-substrin...   \n",
       "3       86.2  https://leetcode.com/problems/median-of-two-so...   \n",
       "4       84.7  https://leetcode.com/problems/longest-palindro...   \n",
       "\n",
       "   discuss_count accepted submissions  \\\n",
       "0            999     4.1M        8.7M   \n",
       "1            999     1.9M        5.2M   \n",
       "2            999     2.1M        6.7M   \n",
       "3            999   904.7K        2.9M   \n",
       "4            999     1.3M        4.1M   \n",
       "\n",
       "                                           companies  \\\n",
       "0  Amazon,Google,Apple,Adobe,Microsoft,Bloomberg,...   \n",
       "1  Bloomberg,Microsoft,Amazon,Google,Facebook,App...   \n",
       "2  Amazon,Bloomberg,Microsoft,Facebook,Apple,Adob...   \n",
       "3  Amazon,Goldman Sachs,Facebook,Microsoft,Apple,...   \n",
       "4  Amazon,Microsoft,Wayfair,Facebook,Adobe,eBay,G...   \n",
       "\n",
       "                                  related_topics  likes  dislikes  rating  \\\n",
       "0                               Array,Hash Table  20217       712      97   \n",
       "1                     Linked List,Math,Recursion  11350      2704      81   \n",
       "2  Hash Table,Two Pointers,String,Sliding Window  13810       714      95   \n",
       "3         Array,Binary Search,Divide and Conquer   9665      1486      87   \n",
       "4                     String,Dynamic Programming  10271       670      94   \n",
       "\n",
       "   asked_by_faang                                  similar_questions  \n",
       "0               1  [3Sum, /problems/3sum/, Medium], [4Sum, /probl...  \n",
       "1               1  [Multiply Strings, /problems/multiply-strings/...  \n",
       "2               1  [Longest Substring with At Most Two Distinct C...  \n",
       "3               1                                                NaN  \n",
       "4               1  [Shortest Palindrome, /problems/shortest-palin...  "
      ]
     },
     "execution_count": 35,
     "metadata": {},
     "output_type": "execute_result"
    }
   ],
   "source": [
    "# Importing libraries and dataset\n",
    "import pandas as pd\n",
    "import numpy as np\n",
    "import matplotlib.pyplot as plt\n",
    "\n",
    "df = pd.read_csv('leetcode_dataset - lc.csv')\n",
    "df.head()"
   ]
  },
  {
   "attachments": {},
   "cell_type": "markdown",
   "metadata": {},
   "source": [
    "### Start of Data Analysis"
   ]
  },
  {
   "cell_type": "code",
   "execution_count": 3,
   "metadata": {},
   "outputs": [
    {
     "data": {
      "text/plain": [
       "(1825, 19)"
      ]
     },
     "execution_count": 3,
     "metadata": {},
     "output_type": "execute_result"
    }
   ],
   "source": [
    "# Get the number of rows and columns\n",
    "df.shape"
   ]
  },
  {
   "cell_type": "code",
   "execution_count": 40,
   "metadata": {},
   "outputs": [
    {
     "name": "stdout",
     "output_type": "stream",
     "text": [
      "Index(['id', 'title', 'description', 'is_premium', 'difficulty',\n",
      "       'solution_link', 'acceptance_rate', 'frequency', 'url', 'discuss_count',\n",
      "       'accepted', 'submissions', 'companies', 'related_topics', 'likes',\n",
      "       'dislikes', 'rating', 'asked_by_faang', 'similar_questions'],\n",
      "      dtype='object')\n"
     ]
    }
   ],
   "source": [
    "# Get the column names\n",
    "print(df.columns)"
   ]
  },
  {
   "cell_type": "code",
   "execution_count": 5,
   "metadata": {},
   "outputs": [
    {
     "data": {
      "text/plain": [
       "id                     int64\n",
       "title                 object\n",
       "description           object\n",
       "is_premium             int64\n",
       "difficulty            object\n",
       "solution_link         object\n",
       "acceptance_rate      float64\n",
       "frequency            float64\n",
       "url                   object\n",
       "discuss_count          int64\n",
       "accepted              object\n",
       "submissions           object\n",
       "companies             object\n",
       "related_topics        object\n",
       "likes                  int64\n",
       "dislikes               int64\n",
       "rating                 int64\n",
       "asked_by_faang         int64\n",
       "similar_questions     object\n",
       "dtype: object"
      ]
     },
     "execution_count": 5,
     "metadata": {},
     "output_type": "execute_result"
    }
   ],
   "source": [
    "# Get the data types of each column\n",
    "df.dtypes"
   ]
  },
  {
   "cell_type": "code",
   "execution_count": 6,
   "metadata": {},
   "outputs": [
    {
     "data": {
      "text/plain": [
       "id                   1825\n",
       "title                1825\n",
       "description          1670\n",
       "is_premium              2\n",
       "difficulty              3\n",
       "solution_link         987\n",
       "acceptance_rate       576\n",
       "frequency             619\n",
       "url                  1825\n",
       "discuss_count         642\n",
       "accepted             1098\n",
       "submissions          1236\n",
       "companies             691\n",
       "related_topics        320\n",
       "likes                1161\n",
       "dislikes              603\n",
       "rating                 94\n",
       "asked_by_faang          2\n",
       "similar_questions     689\n",
       "dtype: int64"
      ]
     },
     "execution_count": 6,
     "metadata": {},
     "output_type": "execute_result"
    }
   ],
   "source": [
    "# Get the number of unique values in each column\n",
    "df.nunique()"
   ]
  },
  {
   "cell_type": "code",
   "execution_count": 7,
   "metadata": {},
   "outputs": [
    {
     "data": {
      "text/plain": [
       "id                      0\n",
       "title                   0\n",
       "description             0\n",
       "is_premium              0\n",
       "difficulty              0\n",
       "solution_link         838\n",
       "acceptance_rate         0\n",
       "frequency               0\n",
       "url                     0\n",
       "discuss_count           0\n",
       "accepted                0\n",
       "submissions             0\n",
       "companies              76\n",
       "related_topics        254\n",
       "likes                   0\n",
       "dislikes                0\n",
       "rating                  0\n",
       "asked_by_faang          0\n",
       "similar_questions    1080\n",
       "dtype: int64"
      ]
     },
     "execution_count": 7,
     "metadata": {},
     "output_type": "execute_result"
    }
   ],
   "source": [
    "# Get the number of missing values in each column\n",
    "df.isnull().sum()"
   ]
  },
  {
   "cell_type": "code",
   "execution_count": 10,
   "metadata": {},
   "outputs": [
    {
     "data": {
      "text/plain": [
       "0    1427\n",
       "1     398\n",
       "Name: is_premium, dtype: int64"
      ]
     },
     "execution_count": 10,
     "metadata": {},
     "output_type": "execute_result"
    }
   ],
   "source": [
    "# Get the number of premium questions (denoted by 1) and non-premium questions (denoted by 0)\n",
    "df['is_premium'].value_counts()"
   ]
  },
  {
   "cell_type": "code",
   "execution_count": 12,
   "metadata": {},
   "outputs": [
    {
     "data": {
      "text/plain": [
       "Medium    963\n",
       "Easy      477\n",
       "Hard      385\n",
       "Name: difficulty, dtype: int64"
      ]
     },
     "execution_count": 12,
     "metadata": {},
     "output_type": "execute_result"
    }
   ],
   "source": [
    "# Get the number of questions for each difficulty level\n",
    "df['difficulty'].value_counts()"
   ]
  },
  {
   "cell_type": "code",
   "execution_count": 28,
   "metadata": {},
   "outputs": [
    {
     "name": "stdout",
     "output_type": "stream",
     "text": [
      "Number of companies:  200 \n",
      "\n",
      "Top 15 most common companies: \n"
     ]
    },
    {
     "data": {
      "text/plain": [
       "Amazon           690\n",
       "Google           553\n",
       "Facebook         411\n",
       "Microsoft        355\n",
       "Bloomberg        220\n",
       "Apple            211\n",
       "Adobe            119\n",
       "Oracle           113\n",
       "Uber             112\n",
       "ByteDance        107\n",
       "Goldman Sachs     70\n",
       "LinkedIn          68\n",
       "eBay              53\n",
       "Twitter           43\n",
       "Expedia           27\n",
       "Name: companies, dtype: int64"
      ]
     },
     "execution_count": 28,
     "metadata": {},
     "output_type": "execute_result"
    }
   ],
   "source": [
    "# Get the list of unique companies in the dataset, the companies column contains a list of companies for each question separated by a comma\n",
    "# We will use the explode function to get the list of unique companies\n",
    "companies_list = df['companies'].str.split(',').explode().unique()\n",
    "\n",
    "# Get the number of unique companies\n",
    "print('Number of companies: ', len(companies_list), '\\n')\n",
    "\n",
    "# Get the number of questions for each company and show the top 15 companies\n",
    "print('Top 15 most common companies: ')\n",
    "df['companies'].str.split(',').explode().value_counts().head(15)"
   ]
  },
  {
   "cell_type": "code",
   "execution_count": 36,
   "metadata": {},
   "outputs": [
    {
     "data": {
      "text/plain": [
       "<AxesSubplot:ylabel='companies'>"
      ]
     },
     "execution_count": 36,
     "metadata": {},
     "output_type": "execute_result"
    },
    {
     "data": {
      "image/png": "[encoded data removed]",
      "text/plain": [
       "<Figure size 720x720 with 1 Axes>"
      ]
     },
     "metadata": {},
     "output_type": "display_data"
    }
   ],
   "source": [
    "# Display the top 10 companies in a pie chart\n",
    "plt.style.use('ggplot')\n",
    "df['companies'].str.split(',').explode().value_counts().head(10).plot(kind='pie', figsize=(10, 10), autopct='%1.1f%%', startangle=90, fontsize=15)"
   ]
  },
  {
   "cell_type": "code",
   "execution_count": 29,
   "metadata": {},
   "outputs": [
    {
     "data": {
      "text/plain": [
       "52.87335620354485"
      ]
     },
     "execution_count": 29,
     "metadata": {},
     "output_type": "execute_result"
    }
   ],
   "source": [
    "# Get the average acceptance rate\n",
    "df['acceptance_rate'].mean()"
   ]
  },
  {
   "cell_type": "code",
   "execution_count": 30,
   "metadata": {},
   "outputs": [
    {
     "data": {
      "text/plain": [
       "difficulty\n",
       "Easy      60.815837\n",
       "Hard      44.493834\n",
       "Medium    52.461135\n",
       "Name: acceptance_rate, dtype: float64"
      ]
     },
     "execution_count": 30,
     "metadata": {},
     "output_type": "execute_result"
    }
   ],
   "source": [
    "# Get the average acceptance rate for each difficulty level\n",
    "df.groupby('difficulty')['acceptance_rate'].mean()"
   ]
  },
  {
   "cell_type": "code",
   "execution_count": 31,
   "metadata": {},
   "outputs": [
    {
     "data": {
      "text/plain": [
       "<AxesSubplot:xlabel='difficulty'>"
      ]
     },
     "execution_count": 31,
     "metadata": {},
     "output_type": "execute_result"
    },
    {
     "data": {
      "image/png": "[encoded data removed]",
      "text/plain": [
       "<Figure size 432x288 with 1 Axes>"
      ]
     },
     "metadata": {
      "needs_background": "light"
     },
     "output_type": "display_data"
    }
   ],
   "source": [
    "# Get the average acceptance rate for each difficulty level and show the results in a bar chart\n",
    "df.groupby('difficulty')['acceptance_rate'].mean().plot(kind='bar')"
   ]
  },
  {
   "cell_type": "code",
   "execution_count": 37,
   "metadata": {},
   "outputs": [
    {
     "data": {
      "text/plain": [
       "difficulty\n",
       "Easy      71.331237\n",
       "Hard      81.836364\n",
       "Medium    78.615784\n",
       "Name: rating, dtype: float64"
      ]
     },
     "execution_count": 37,
     "metadata": {},
     "output_type": "execute_result"
    }
   ],
   "source": [
    "# Get the average rating for each difficulty level\n",
    "df.groupby('difficulty')['rating'].mean()"
   ]
  },
  {
   "cell_type": "code",
   "execution_count": 41,
   "metadata": {},
   "outputs": [
    {
     "data": {
      "text/plain": [
       "<AxesSubplot:xlabel='difficulty'>"
      ]
     },
     "execution_count": 41,
     "metadata": {},
     "output_type": "execute_result"
    },
    {
     "data": {
      "image/png": "[encoded data removed]",
      "text/plain": [
       "<Figure size 432x288 with 1 Axes>"
      ]
     },
     "metadata": {},
     "output_type": "display_data"
    }
   ],
   "source": [
    "# Plot the average rating for each difficulty level\n",
    "df.groupby('difficulty')['rating'].mean().plot(kind='bar')"
   ]
  },
  {
   "cell_type": "code",
   "execution_count": 39,
   "metadata": {},
   "outputs": [
    {
     "data": {
      "text/plain": [
       "1    1225\n",
       "0     600\n",
       "Name: asked_by_faang, dtype: int64"
      ]
     },
     "execution_count": 39,
     "metadata": {},
     "output_type": "execute_result"
    }
   ],
   "source": [
    "# Get the number of questions asked by faang companies, indicated by 1 in the faang column\n",
    "df['asked_by_faang'].value_counts()"
   ]
  }
 ],
 "metadata": {
  "kernelspec": {
   "display_name": "base",
   "language": "python",
   "name": "python3"
  },
  "language_info": {
   "codemirror_mode": {
    "name": "ipython",
    "version": 3
   },
   "file_extension": ".py",
   "mimetype": "text/x-python",
   "name": "python",
   "nbconvert_exporter": "python",
   "pygments_lexer": "ipython3",
   "version": "3.9.12"
  },
  "orig_nbformat": 4
 },
 "nbformat": 4,
 "nbformat_minor": 2
}
